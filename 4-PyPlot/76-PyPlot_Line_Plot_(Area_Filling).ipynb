{
 "cells": [
  {
   "cell_type": "code",
   "execution_count": 26,
   "metadata": {},
   "outputs": [],
   "source": [
    "from matplotlib import pyplot as plt\n",
    "import numpy as np\n",
    "import pandas as pd\n",
    "%matplotlib qt"
   ]
  },
  {
   "cell_type": "markdown",
   "metadata": {},
   "source": [
    "##### Creation Date:\n",
    "##### February 12 2022\n",
    "##### Created By Alperen KOLAMUC"
   ]
  },
  {
   "cell_type": "markdown",
   "metadata": {},
   "source": [
    "#### Data"
   ]
  },
  {
   "cell_type": "code",
   "execution_count": 27,
   "metadata": {},
   "outputs": [],
   "source": [
    "ages = [25,26,27,28,29,30,31,32,33,34,35]\n",
    "salary = np.random.randint(38496,73752,len(ages))\n",
    "js_salary = np.random.randint(37810,74583,len(ages))\n",
    "python_salary = np.random.randint(45372,83640,len(ages))\n",
    "\n",
    "salary.sort()\n",
    "python_salary.sort()\n",
    "js_salary.sort()"
   ]
  },
  {
   "cell_type": "markdown",
   "metadata": {},
   "source": [
    "#### Line Plot (Area Filling)"
   ]
  },
  {
   "cell_type": "code",
   "execution_count": 21,
   "metadata": {},
   "outputs": [],
   "source": [
    "plt.plot(ages, salary, color=\"#9DE0AD\", linestyle=\"--\", label=\"All Devs\")\n",
    "plt.plot(ages, python_salary, color=\"#547980\", label=\"Python\")\n",
    "\n",
    "plt.legend()\n",
    "\n",
    "plt.title(\"Median Salaries by Ages\")\n",
    "\n",
    "plt.xlabel(\"Ages\")\n",
    "plt.ylabel(\"Median Salaries\")\n",
    "\n",
    "plt.tight_layout()\n",
    "\n",
    "plt.show()"
   ]
  },
  {
   "cell_type": "markdown",
   "metadata": {},
   "source": [
    "#### Altta Kalan Alanı Doldurmak\n",
    "* plt.fill_between:(x, y1, y2)--> y1 ve y2 arasını dolduracak\n",
    "* plt.fill_between:(x, y1)--> y1'in altında kalan alanı doldurur(y2'yi 0 kabul eder eğer değer vermezsek)"
   ]
  },
  {
   "cell_type": "code",
   "execution_count": 22,
   "metadata": {},
   "outputs": [],
   "source": [
    "plt.plot(ages, salary, color=\"#9DE0AD\", linestyle=\"--\", label=\"All Devs\")\n",
    "plt.plot(ages, python_salary, color=\"#547980\", label=\"Python\")\n",
    "\n",
    "plt.fill_between(ages, python_salary)\n",
    "\n",
    "plt.legend()\n",
    "\n",
    "plt.title(\"Median Salaries by Ages\")\n",
    "\n",
    "plt.xlabel(\"Ages\")\n",
    "plt.ylabel(\"Median Salaries\")\n",
    "\n",
    "plt.tight_layout()\n",
    "\n",
    "plt.show()"
   ]
  },
  {
   "cell_type": "markdown",
   "metadata": {},
   "source": [
    "#### Dolgunun Saydamlığının Ayarlanması"
   ]
  },
  {
   "cell_type": "code",
   "execution_count": 24,
   "metadata": {},
   "outputs": [],
   "source": [
    "plt.plot(ages, salary, color=\"#9DE0AD\", linestyle=\"--\", label=\"All Devs\")\n",
    "plt.plot(ages, python_salary, color=\"#547980\", label=\"Python\")\n",
    "\n",
    "plt.fill_between(ages, python_salary, alpha=0.2)\n",
    "\n",
    "plt.legend()\n",
    "\n",
    "plt.title(\"Median Salaries by Ages\")\n",
    "\n",
    "plt.xlabel(\"Ages\")\n",
    "plt.ylabel(\"Median Salaries\")\n",
    "\n",
    "plt.tight_layout()\n",
    "\n",
    "plt.show()"
   ]
  },
  {
   "cell_type": "markdown",
   "metadata": {},
   "source": [
    "#### y2 0'dan Faklıysa\n"
   ]
  },
  {
   "cell_type": "code",
   "execution_count": 36,
   "metadata": {},
   "outputs": [],
   "source": [
    "overall_median = np.median(js_salary)"
   ]
  },
  {
   "cell_type": "code",
   "execution_count": 38,
   "metadata": {},
   "outputs": [],
   "source": [
    "plt.plot(ages, salary, color=\"#9DE0AD\", linestyle=\"--\", label=\"All Devs\")\n",
    "plt.plot(ages, python_salary, color=\"#547980\", label=\"Python\")\n",
    "\n",
    "plt.fill_between(ages, python_salary, overall_median, alpha=0.2)\n",
    "\n",
    "plt.legend()\n",
    "\n",
    "plt.title(\"Median Salaries by Ages\")\n",
    "\n",
    "plt.xlabel(\"Ages\")\n",
    "plt.ylabel(\"Median Salaries\")\n",
    "\n",
    "plt.tight_layout()\n",
    "\n",
    "plt.show()"
   ]
  },
  {
   "cell_type": "markdown",
   "metadata": {},
   "source": [
    "#### Conditional Fill"
   ]
  },
  {
   "cell_type": "code",
   "execution_count": 39,
   "metadata": {},
   "outputs": [],
   "source": [
    "overall_median = np.median(salary)"
   ]
  },
  {
   "cell_type": "code",
   "execution_count": 40,
   "metadata": {},
   "outputs": [],
   "source": [
    "plt.plot(ages, salary, color=\"#9DE0AD\", linestyle=\"--\", label=\"All Devs\")\n",
    "plt.plot(ages, python_salary, color=\"#547980\", label=\"Python\")\n",
    "\n",
    "plt.fill_between(ages, python_salary, overall_median, where=(python_salary > overall_median), alpha=0.2)\n",
    "\n",
    "plt.legend()\n",
    "\n",
    "plt.title(\"Median Salaries by Ages\")\n",
    "\n",
    "plt.xlabel(\"Ages\")\n",
    "plt.ylabel(\"Median Salaries\")\n",
    "\n",
    "plt.tight_layout()\n",
    "\n",
    "plt.show()"
   ]
  },
  {
   "cell_type": "markdown",
   "metadata": {},
   "source": [
    "#### Farklı Bir Şarta Bağlı İkinci Dolgu Eklemek"
   ]
  },
  {
   "cell_type": "code",
   "execution_count": 41,
   "metadata": {},
   "outputs": [],
   "source": [
    "plt.plot(ages, salary, color=\"#9DE0AD\", linestyle=\"--\", label=\"All Devs\")\n",
    "plt.plot(ages, python_salary, color=\"#547980\", label=\"Python\")\n",
    "\n",
    "plt.fill_between(ages, python_salary, overall_median, \n",
    "where=(python_salary > overall_median), interpolate=True, alpha=0.25)\n",
    "\n",
    "plt.fill_between(ages, python_salary, overall_median, \n",
    "where=(python_salary <= overall_median), interpolate=True, alpha=0.25)\n",
    "\n",
    "plt.legend()\n",
    "\n",
    "plt.title(\"Median Salaries by Ages\")\n",
    "\n",
    "plt.xlabel(\"Ages\")\n",
    "plt.ylabel(\"Median Salaries\")\n",
    "\n",
    "plt.tight_layout()\n",
    "\n",
    "plt.show()"
   ]
  },
  {
   "cell_type": "markdown",
   "metadata": {},
   "source": [
    "#### Dolgunun Rengini Değiştirmek"
   ]
  },
  {
   "cell_type": "code",
   "execution_count": 42,
   "metadata": {},
   "outputs": [],
   "source": [
    "plt.plot(ages, salary, color=\"#9DE0AD\", linestyle=\"--\", label=\"All Devs\")\n",
    "plt.plot(ages, python_salary, color=\"#547980\", label=\"Python\")\n",
    "\n",
    "plt.fill_between(ages, python_salary, overall_median, \n",
    "where=(python_salary > overall_median), interpolate=True, alpha=0.25)\n",
    "\n",
    "plt.fill_between(ages, python_salary, overall_median, \n",
    "where=(python_salary <= overall_median), interpolate=True, color=\"red\", alpha=0.25)\n",
    "\n",
    "plt.legend()\n",
    "\n",
    "plt.title(\"Median Salaries by Ages\")\n",
    "\n",
    "plt.xlabel(\"Ages\")\n",
    "plt.ylabel(\"Median Salaries\")\n",
    "\n",
    "plt.tight_layout()\n",
    "\n",
    "plt.show()"
   ]
  },
  {
   "cell_type": "markdown",
   "metadata": {},
   "source": [
    "#### Dolgulara Etiket Vermek"
   ]
  },
  {
   "cell_type": "code",
   "execution_count": 43,
   "metadata": {},
   "outputs": [],
   "source": [
    "plt.plot(ages, salary, color=\"#9DE0AD\", linestyle=\"--\", label=\"All Devs\")\n",
    "plt.plot(ages, python_salary, color=\"#547980\", label=\"Python\")\n",
    "\n",
    "plt.fill_between(ages, python_salary, overall_median, \n",
    "where=(python_salary > overall_median), interpolate=True, alpha=0.25, label=\"Above Avr\")\n",
    "\n",
    "plt.fill_between(ages, python_salary, overall_median, \n",
    "where=(python_salary <= overall_median), interpolate=True, alpha=0.25, label=\"Bellow Avr\")\n",
    "\n",
    "plt.legend()\n",
    "\n",
    "plt.title(\"Median Salaries by Ages\")\n",
    "\n",
    "plt.xlabel(\"Ages\")\n",
    "plt.ylabel(\"Median Salaries\")\n",
    "\n",
    "plt.tight_layout()\n",
    "\n",
    "plt.show()"
   ]
  }
 ],
 "metadata": {
  "interpreter": {
   "hash": "b89b5cfaba6639976dc87ff2fec6d58faec662063367e2c229c520fe71072417"
  },
  "kernelspec": {
   "display_name": "Python 3.10.1 64-bit",
   "language": "python",
   "name": "python3"
  },
  "language_info": {
   "codemirror_mode": {
    "name": "ipython",
    "version": 3
   },
   "file_extension": ".py",
   "mimetype": "text/x-python",
   "name": "python",
   "nbconvert_exporter": "python",
   "pygments_lexer": "ipython3",
   "version": "3.10.1"
  },
  "orig_nbformat": 4
 },
 "nbformat": 4,
 "nbformat_minor": 2
}
