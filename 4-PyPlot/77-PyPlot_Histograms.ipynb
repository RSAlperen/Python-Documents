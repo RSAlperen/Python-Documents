{
 "cells": [
  {
   "cell_type": "code",
   "execution_count": 1,
   "metadata": {},
   "outputs": [],
   "source": [
    "from matplotlib import pyplot as plt\n",
    "import numpy as np\n",
    "%matplotlib qt"
   ]
  },
  {
   "cell_type": "markdown",
   "metadata": {},
   "source": [
    "##### Creation Date:\n",
    "##### February 12 2022\n",
    "##### Created By Alperen KOLAMUC"
   ]
  },
  {
   "cell_type": "markdown",
   "metadata": {},
   "source": [
    "#### Data"
   ]
  },
  {
   "cell_type": "code",
   "execution_count": 2,
   "metadata": {},
   "outputs": [],
   "source": [
    "ages = [25,26,27,28,29,30,31,32,33,34,35]\n",
    "salary = np.random.randint(38496,73752,len(ages))\n",
    "js_salary = np.random.randint(37810,74583,len(ages))\n",
    "python_salary = np.random.randint(45372,83640,len(ages))\n",
    "\n",
    "salary.sort()\n",
    "python_salary.sort()\n",
    "js_salary.sort()"
   ]
  },
  {
   "cell_type": "markdown",
   "metadata": {},
   "source": [
    "##### Histogram Plot\n",
    "* Verimizi farklı aralıkalra bölmemizi ve bu aralıklara düşenlere aynı değere sahipmiş gibi davranıp bölmemizi sağlar"
   ]
  },
  {
   "cell_type": "code",
   "execution_count": 8,
   "metadata": {},
   "outputs": [],
   "source": [
    "ages = [18, 19, 21, 25, 26, 26, 30, 32, 38, 45, 55]\n",
    "\n",
    "plt.hist(ages)\n",
    "\n",
    "plt.title(\"Ages\")\n",
    "plt.xlabel(\"Ages\")\n",
    "plt.ylabel(\"Count\")\n",
    "\n",
    "plt.tight_layout()\n",
    "\n",
    "plt.show()"
   ]
  },
  {
   "cell_type": "markdown",
   "metadata": {},
   "source": [
    "#### Kenarları Renklendirmek"
   ]
  },
  {
   "cell_type": "code",
   "execution_count": 9,
   "metadata": {},
   "outputs": [],
   "source": [
    "ages = [18, 19, 21, 25, 26, 26, 30, 32, 38, 45, 55]\n",
    "\n",
    "plt.hist(ages, edgecolor=\"black\")\n",
    "\n",
    "plt.title(\"Ages\")\n",
    "plt.xlabel(\"Ages\")\n",
    "plt.ylabel(\"Count\")\n",
    "\n",
    "plt.tight_layout()\n",
    "\n",
    "plt.show()"
   ]
  },
  {
   "cell_type": "markdown",
   "metadata": {},
   "source": [
    "#### Aralığın Boyutunu Belirtmek\n",
    "##### Tam Sayı ile\n",
    "* verilen sayıda aralık/kutucuk `bin` yaratacak"
   ]
  },
  {
   "cell_type": "code",
   "execution_count": 10,
   "metadata": {},
   "outputs": [],
   "source": [
    "ages = [18, 19, 21, 25, 26, 26, 30, 32, 38, 45, 55]\n",
    "\n",
    "plt.hist(ages, bins=4, edgecolor=\"black\")\n",
    "\n",
    "plt.title(\"Ages\")\n",
    "plt.xlabel(\"Ages\")\n",
    "plt.ylabel(\"Count\")\n",
    "\n",
    "plt.tight_layout()\n",
    "\n",
    "plt.show()"
   ]
  },
  {
   "cell_type": "markdown",
   "metadata": {},
   "source": [
    "#### Aralıkların Başlangıç Bitiş Değerlerini Direnkt Vermek"
   ]
  },
  {
   "cell_type": "code",
   "execution_count": 11,
   "metadata": {},
   "outputs": [],
   "source": [
    "ages = [18, 19, 21, 25, 26, 26, 30, 32, 38, 45, 55]\n",
    "bins = [10, 20, 30, 40, 50, 55]\n",
    "\n",
    "plt.hist(ages, bins=bins, edgecolor=\"black\")\n",
    "\n",
    "plt.title(\"Ages\")\n",
    "plt.xlabel(\"Ages\")\n",
    "plt.ylabel(\"Count\")\n",
    "\n",
    "plt.tight_layout()\n",
    "\n",
    "plt.show()"
   ]
  }
 ],
 "metadata": {
  "interpreter": {
   "hash": "b89b5cfaba6639976dc87ff2fec6d58faec662063367e2c229c520fe71072417"
  },
  "kernelspec": {
   "display_name": "Python 3.10.1 64-bit",
   "language": "python",
   "name": "python3"
  },
  "language_info": {
   "codemirror_mode": {
    "name": "ipython",
    "version": 3
   },
   "file_extension": ".py",
   "mimetype": "text/x-python",
   "name": "python",
   "nbconvert_exporter": "python",
   "pygments_lexer": "ipython3",
   "version": "3.10.1"
  },
  "orig_nbformat": 4
 },
 "nbformat": 4,
 "nbformat_minor": 2
}
