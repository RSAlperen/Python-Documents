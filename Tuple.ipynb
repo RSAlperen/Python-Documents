{
 "cells": [
  {
   "cell_type": "code",
   "execution_count": null,
   "metadata": {},
   "outputs": [],
   "source": []
  },
  {
   "cell_type": "markdown",
   "metadata": {},
   "source": [
    "#### Creation Date:\n",
    "#### January 14 2022\n",
    "#### Created By Alperen KOLAMUC"
   ]
  },
  {
   "cell_type": "markdown",
   "metadata": {},
   "source": [
    "##### Tuple\n",
    "* `tuple` veri tipi listeler gibi birden çok veri tipini bir arada tutmayı sağlar\n",
    "* Listelerden farklı olarak `tuple` lar `immutable` dır\n",
    "* Değişmesi istenmeyen değerler için kullanılır\n",
    "* Örn: coordinat(10,40) bir `tuple`'dır\n",
    "* `tuple`'lar listeler gibi farklı veri tiplerinden oluşabilir. Elemanları `tuple` bile olabilir"
   ]
  },
  {
   "cell_type": "code",
   "execution_count": 4,
   "metadata": {},
   "outputs": [],
   "source": [
    "x = 10\n",
    "y = 40\n",
    "konum = (x, y)"
   ]
  },
  {
   "cell_type": "markdown",
   "metadata": {},
   "source": [
    "* Aynı listelerde ki gibi indexleme yapabiliyoruz"
   ]
  },
  {
   "cell_type": "code",
   "execution_count": 5,
   "metadata": {},
   "outputs": [
    {
     "data": {
      "text/plain": [
       "10"
      ]
     },
     "execution_count": 5,
     "metadata": {},
     "output_type": "execute_result"
    }
   ],
   "source": [
    "konum[0]"
   ]
  },
  {
   "cell_type": "markdown",
   "metadata": {},
   "source": [
    "* `tuple`'ın içindeki veri değişmez ama `tuple`'ın içine liste eklersek o listenin değeri değişebilir. Çünkü `tuple` listeyi bir kutu olarak algılar kutunun şekli değişmez ama içindekiler değişebilir."
   ]
  },
  {
   "cell_type": "code",
   "execution_count": 9,
   "metadata": {},
   "outputs": [
    {
     "name": "stdout",
     "output_type": "stream",
     "text": [
      "[10, 20]\n",
      "[20, 20]\n"
     ]
    }
   ],
   "source": [
    "l = [10, 20]\n",
    "coord = (l)\n",
    "print(coord)\n",
    "l[0] = 20\n",
    "print(coord)"
   ]
  }
 ],
 "metadata": {
  "interpreter": {
   "hash": "b89b5cfaba6639976dc87ff2fec6d58faec662063367e2c229c520fe71072417"
  },
  "kernelspec": {
   "display_name": "Python 3.10.1 64-bit",
   "language": "python",
   "name": "python3"
  },
  "language_info": {
   "codemirror_mode": {
    "name": "ipython",
    "version": 3
   },
   "file_extension": ".py",
   "mimetype": "text/x-python",
   "name": "python",
   "nbconvert_exporter": "python",
   "pygments_lexer": "ipython3",
   "version": "3.10.1"
  },
  "orig_nbformat": 4
 },
 "nbformat": 4,
 "nbformat_minor": 2
}
