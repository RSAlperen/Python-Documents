{
 "cells": [
  {
   "cell_type": "code",
   "execution_count": 1,
   "metadata": {},
   "outputs": [],
   "source": [
    "import numpy as np"
   ]
  },
  {
   "cell_type": "markdown",
   "metadata": {},
   "source": [
    "##### Creation Date:\n",
    "##### January 29 2022\n",
    "##### Created By Alperen KOLAMUC"
   ]
  },
  {
   "cell_type": "markdown",
   "metadata": {},
   "source": [
    "#### Normal Distribution'dan Öekilmiş Değerler ile Array Oluşturmak\n",
    "* (mean, std, array size)"
   ]
  },
  {
   "cell_type": "code",
   "execution_count": 2,
   "metadata": {},
   "outputs": [
    {
     "data": {
      "text/plain": [
       "array([[-1.41188067,  0.51167879,  0.28805718,  0.10340177,  0.61360971],\n",
       "       [ 0.49710008, -0.17377395, -1.06115749,  0.08568368, -0.21773001],\n",
       "       [ 3.29980748, -0.22022514, -0.92996393,  1.01222179, -1.55116663],\n",
       "       [-0.89142218, -1.5567245 , -0.73647591, -2.02361888,  0.5881623 ]])"
      ]
     },
     "execution_count": 2,
     "metadata": {},
     "output_type": "execute_result"
    }
   ],
   "source": [
    "np.random.normal(0, 1 ,(4,5))"
   ]
  },
  {
   "cell_type": "code",
   "execution_count": 3,
   "metadata": {},
   "outputs": [
    {
     "data": {
      "text/plain": [
       "array([[ 107.63200894, -268.80116748, -120.26468751,  -71.55880914,\n",
       "        -144.33247424],\n",
       "       [-161.01980623,    7.34778617, -202.13754348,  149.68029748,\n",
       "         184.62886668],\n",
       "       [  37.66743662,  -38.90525972,  -73.0730226 ,   -2.06584175,\n",
       "        -189.41649477],\n",
       "       [-137.59502961,  -96.77670887,  -42.02491673,  -43.88330537,\n",
       "         157.30690001]])"
      ]
     },
     "execution_count": 3,
     "metadata": {},
     "output_type": "execute_result"
    }
   ],
   "source": [
    "np.random.normal(0, 100 , (4, 5))"
   ]
  }
 ],
 "metadata": {
  "interpreter": {
   "hash": "b89b5cfaba6639976dc87ff2fec6d58faec662063367e2c229c520fe71072417"
  },
  "kernelspec": {
   "display_name": "Python 3.10.1 64-bit",
   "language": "python",
   "name": "python3"
  },
  "language_info": {
   "codemirror_mode": {
    "name": "ipython",
    "version": 3
   },
   "file_extension": ".py",
   "mimetype": "text/x-python",
   "name": "python",
   "nbconvert_exporter": "python",
   "pygments_lexer": "ipython3",
   "version": "3.10.1"
  },
  "orig_nbformat": 4
 },
 "nbformat": 4,
 "nbformat_minor": 2
}
