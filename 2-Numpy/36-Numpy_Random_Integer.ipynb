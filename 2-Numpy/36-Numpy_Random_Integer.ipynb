{
 "cells": [
  {
   "cell_type": "code",
   "execution_count": 1,
   "metadata": {},
   "outputs": [],
   "source": [
    "import numpy as np"
   ]
  },
  {
   "cell_type": "markdown",
   "metadata": {},
   "source": [
    "##### Creation Date:\n",
    "##### January 29 2022\n",
    "##### Created By Alperen KOLAMUC"
   ]
  },
  {
   "cell_type": "markdown",
   "metadata": {},
   "source": [
    "#### Random Integer'lar ile Array Oluşturmak\n",
    "* [low, High)"
   ]
  },
  {
   "cell_type": "code",
   "execution_count": 2,
   "metadata": {},
   "outputs": [
    {
     "data": {
      "text/plain": [
       "1"
      ]
     },
     "execution_count": 2,
     "metadata": {},
     "output_type": "execute_result"
    }
   ],
   "source": [
    "np.random.randint(2)"
   ]
  },
  {
   "cell_type": "code",
   "execution_count": 3,
   "metadata": {},
   "outputs": [
    {
     "data": {
      "text/plain": [
       "array([[7, 1, 6, 2],\n",
       "       [3, 1, 5, 4],\n",
       "       [7, 8, 7, 7]])"
      ]
     },
     "execution_count": 3,
     "metadata": {},
     "output_type": "execute_result"
    }
   ],
   "source": [
    "np.random.randint(1, 10, (3,4))"
   ]
  },
  {
   "cell_type": "code",
   "execution_count": 4,
   "metadata": {},
   "outputs": [
    {
     "data": {
      "text/plain": [
       "array([[[1, 3, 5, 9, 8],\n",
       "        [6, 1, 7, 9, 1],\n",
       "        [9, 6, 6, 1, 3],\n",
       "        [4, 9, 8, 4, 3],\n",
       "        [3, 3, 1, 4, 7]],\n",
       "\n",
       "       [[5, 4, 1, 7, 6],\n",
       "        [6, 2, 7, 7, 8],\n",
       "        [3, 3, 5, 8, 1],\n",
       "        [7, 5, 6, 4, 3],\n",
       "        [4, 8, 6, 9, 7]],\n",
       "\n",
       "       [[2, 9, 8, 2, 2],\n",
       "        [8, 4, 2, 3, 7],\n",
       "        [4, 7, 7, 8, 1],\n",
       "        [9, 3, 5, 1, 7],\n",
       "        [3, 3, 3, 3, 1]]])"
      ]
     },
     "execution_count": 4,
     "metadata": {},
     "output_type": "execute_result"
    }
   ],
   "source": [
    "np.random.randint(1, 10, (3,5,5))"
   ]
  },
  {
   "cell_type": "code",
   "execution_count": 5,
   "metadata": {},
   "outputs": [
    {
     "data": {
      "text/plain": [
       "4"
      ]
     },
     "execution_count": 5,
     "metadata": {},
     "output_type": "execute_result"
    }
   ],
   "source": [
    "np.random.randint(1, 6)"
   ]
  },
  {
   "cell_type": "code",
   "execution_count": 7,
   "metadata": {},
   "outputs": [],
   "source": [
    "d = {}\n",
    "for _ in range(200000):\n",
    "    val = np.random.randint(1, 11)\n",
    "\n",
    "    if val not in d:\n",
    "        d[val] = 1\n",
    "    else:\n",
    "        d[val] += 1"
   ]
  },
  {
   "cell_type": "code",
   "execution_count": 8,
   "metadata": {},
   "outputs": [
    {
     "data": {
      "text/plain": [
       "{3: 20078,\n",
       " 9: 19941,\n",
       " 5: 20086,\n",
       " 7: 19960,\n",
       " 6: 19995,\n",
       " 8: 19902,\n",
       " 2: 19937,\n",
       " 4: 20035,\n",
       " 10: 19977,\n",
       " 1: 20089}"
      ]
     },
     "execution_count": 8,
     "metadata": {},
     "output_type": "execute_result"
    }
   ],
   "source": [
    "d"
   ]
  }
 ],
 "metadata": {
  "interpreter": {
   "hash": "b89b5cfaba6639976dc87ff2fec6d58faec662063367e2c229c520fe71072417"
  },
  "kernelspec": {
   "display_name": "Python 3.10.1 64-bit",
   "language": "python",
   "name": "python3"
  },
  "language_info": {
   "codemirror_mode": {
    "name": "ipython",
    "version": 3
   },
   "file_extension": ".py",
   "mimetype": "text/x-python",
   "name": "python",
   "nbconvert_exporter": "python",
   "pygments_lexer": "ipython3",
   "version": "3.10.1"
  },
  "orig_nbformat": 4
 },
 "nbformat": 4,
 "nbformat_minor": 2
}
