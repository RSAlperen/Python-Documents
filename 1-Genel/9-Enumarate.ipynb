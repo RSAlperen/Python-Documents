{
 "cells": [
  {
   "cell_type": "markdown",
   "metadata": {},
   "source": [
    "##### Creation Date:\n",
    "##### January 23 2022\n",
    "##### Created By Alperen KOLAMUC"
   ]
  },
  {
   "cell_type": "markdown",
   "metadata": {},
   "source": [
    "# Enumarate:\n",
    "* `for` ile `non-scaler` yapılarda dolaşırken ya elemanları ya da index'leri üzerinde dolaşmıştık. `enumarate` ile ikisinde aynı anda dolaşmak mümkün"
   ]
  },
  {
   "cell_type": "code",
   "execution_count": 5,
   "metadata": {},
   "outputs": [],
   "source": [
    "l =[10, 20, 30, 40, 50]"
   ]
  },
  {
   "cell_type": "code",
   "execution_count": 6,
   "metadata": {},
   "outputs": [
    {
     "name": "stdout",
     "output_type": "stream",
     "text": [
      "10\n",
      "20\n",
      "30\n",
      "40\n",
      "50\n"
     ]
    }
   ],
   "source": [
    "for e in l:\n",
    "    print(e)"
   ]
  },
  {
   "cell_type": "code",
   "execution_count": 7,
   "metadata": {},
   "outputs": [
    {
     "data": {
      "text/plain": [
       "[(0, 10), (1, 20), (2, 30), (3, 40), (4, 50)]"
      ]
     },
     "execution_count": 7,
     "metadata": {},
     "output_type": "execute_result"
    }
   ],
   "source": [
    "list(enumerate(l))"
   ]
  },
  {
   "cell_type": "code",
   "execution_count": 8,
   "metadata": {},
   "outputs": [
    {
     "name": "stdout",
     "output_type": "stream",
     "text": [
      "idx: 0  val: 10\n",
      "idx: 1  val: 20\n",
      "idx: 2  val: 30\n",
      "idx: 3  val: 40\n",
      "idx: 4  val: 50\n"
     ]
    }
   ],
   "source": [
    "for idx, val in enumerate(l):\n",
    "    print(\"idx:\", idx, \" val:\", val)"
   ]
  },
  {
   "cell_type": "markdown",
   "metadata": {},
   "source": [
    "* `enumarate` index'i 0'dan başlamak zorunda değil, başlangıç değerini bizde verebiliriz."
   ]
  },
  {
   "cell_type": "code",
   "execution_count": 9,
   "metadata": {},
   "outputs": [],
   "source": [
    "adlar = [\"Tezcan\", \"Bahattin\", \"Zeki\", \"Kamil\", \"Recep\", \"Rocky Selim\", \"Ayşın\"]"
   ]
  },
  {
   "cell_type": "code",
   "execution_count": 10,
   "metadata": {},
   "outputs": [
    {
     "name": "stdout",
     "output_type": "stream",
     "text": [
      "1 adresindeki isim Tezcan\n",
      "2 adresindeki isim Bahattin\n",
      "3 adresindeki isim Zeki\n",
      "4 adresindeki isim Kamil\n",
      "5 adresindeki isim Recep\n",
      "6 adresindeki isim Rocky Selim\n",
      "7 adresindeki isim Ayşın\n"
     ]
    }
   ],
   "source": [
    "for idx, name in enumerate(adlar, start=1):\n",
    "    print(idx, \"adresindeki isim\", name)"
   ]
  },
  {
   "cell_type": "markdown",
   "metadata": {},
   "source": [
    "##### zip()\n",
    "* Farklı yapılar içerisinde paralel iterasyon yapılmasını sağlar"
   ]
  },
  {
   "cell_type": "code",
   "execution_count": 11,
   "metadata": {},
   "outputs": [],
   "source": [
    "students = [\"Ahmet\", \"Mehmet\", \"Veli\", \"Ayşe\", \"Gizem\"]"
   ]
  },
  {
   "cell_type": "code",
   "execution_count": 12,
   "metadata": {},
   "outputs": [],
   "source": [
    "points = [55, 40, 80, 90, 75]"
   ]
  },
  {
   "cell_type": "code",
   "execution_count": 13,
   "metadata": {},
   "outputs": [
    {
     "name": "stdout",
     "output_type": "stream",
     "text": [
      "Ahmet aldığı not: 55\n",
      "Mehmet aldığı not: 40\n",
      "Veli aldığı not: 80\n",
      "Ayşe aldığı not: 90\n",
      "Gizem aldığı not: 75\n"
     ]
    }
   ],
   "source": [
    "for i in range(len(students)):\n",
    "    s = students[i]\n",
    "    p = points[i]\n",
    "    print(str(s) + \" aldığı not: \" + str(p))"
   ]
  },
  {
   "cell_type": "code",
   "execution_count": 14,
   "metadata": {},
   "outputs": [
    {
     "name": "stdout",
     "output_type": "stream",
     "text": [
      "Ahmet aldığı not: 55\n",
      "Mehmet aldığı not: 40\n",
      "Veli aldığı not: 80\n",
      "Ayşe aldığı not: 90\n",
      "Gizem aldığı not: 75\n"
     ]
    }
   ],
   "source": [
    "for s, p in zip(students, points):\n",
    "    print(str(s) + \" aldığı not: \" + str(p))"
   ]
  },
  {
   "cell_type": "code",
   "execution_count": 15,
   "metadata": {},
   "outputs": [
    {
     "data": {
      "text/plain": [
       "[('Ahmet', 55), ('Mehmet', 40), ('Veli', 80), ('Ayşe', 90), ('Gizem', 75)]"
      ]
     },
     "execution_count": 15,
     "metadata": {},
     "output_type": "execute_result"
    }
   ],
   "source": [
    "list(zip(students, points))"
   ]
  },
  {
   "cell_type": "code",
   "execution_count": 16,
   "metadata": {},
   "outputs": [
    {
     "data": {
      "text/plain": [
       "[(55, 'Ahmet'), (40, 'Mehmet'), (80, 'Veli'), (90, 'Ayşe'), (75, 'Gizem')]"
      ]
     },
     "execution_count": 16,
     "metadata": {},
     "output_type": "execute_result"
    }
   ],
   "source": [
    "list(zip(points, students))"
   ]
  },
  {
   "cell_type": "code",
   "execution_count": 17,
   "metadata": {},
   "outputs": [],
   "source": [
    "a = zip(students, points)"
   ]
  },
  {
   "cell_type": "code",
   "execution_count": 23,
   "metadata": {},
   "outputs": [
    {
     "ename": "StopIteration",
     "evalue": "",
     "output_type": "error",
     "traceback": [
      "\u001b[1;31m---------------------------------------------------------------------------\u001b[0m",
      "\u001b[1;31mStopIteration\u001b[0m                             Traceback (most recent call last)",
      "Input \u001b[1;32mIn [23]\u001b[0m, in \u001b[0;36m<module>\u001b[1;34m\u001b[0m\n\u001b[1;32m----> 1\u001b[0m \u001b[38;5;28;43mnext\u001b[39;49m\u001b[43m(\u001b[49m\u001b[43ma\u001b[49m\u001b[43m)\u001b[49m\n",
      "\u001b[1;31mStopIteration\u001b[0m: "
     ]
    }
   ],
   "source": [
    "next(a)"
   ]
  }
 ],
 "metadata": {
  "interpreter": {
   "hash": "b89b5cfaba6639976dc87ff2fec6d58faec662063367e2c229c520fe71072417"
  },
  "kernelspec": {
   "display_name": "Python 3.10.1 64-bit",
   "language": "python",
   "name": "python3"
  },
  "language_info": {
   "codemirror_mode": {
    "name": "ipython",
    "version": 3
   },
   "file_extension": ".py",
   "mimetype": "text/x-python",
   "name": "python",
   "nbconvert_exporter": "python",
   "pygments_lexer": "ipython3",
   "version": "3.10.1"
  },
  "orig_nbformat": 4
 },
 "nbformat": 4,
 "nbformat_minor": 2
}
