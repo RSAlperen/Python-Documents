{
 "cells": [
  {
   "cell_type": "markdown",
   "metadata": {},
   "source": [
    "##### Creation Date:\n",
    "##### January 23 2022\n",
    "##### Created By Alperen KOLAMUC"
   ]
  },
  {
   "cell_type": "code",
   "execution_count": 1,
   "metadata": {},
   "outputs": [],
   "source": [
    "s = input(\"Bir string girin\")"
   ]
  },
  {
   "cell_type": "code",
   "execution_count": 2,
   "metadata": {},
   "outputs": [
    {
     "data": {
      "text/plain": [
       "'Nasılsın'"
      ]
     },
     "execution_count": 2,
     "metadata": {},
     "output_type": "execute_result"
    }
   ],
   "source": [
    "s"
   ]
  },
  {
   "cell_type": "markdown",
   "metadata": {},
   "source": [
    "#### Functions\n",
    "* Çok kod yazmak her zaman iyi bir şey değil\n",
    "* Minimal ve okunabilir olması daha önemli\n",
    "* Gereksiz kod tekrarından kaçınılmalıdır\n",
    "* Belirli bir Fonksiyonalite katan kod bloklarını belirli bir yapı altında tutup ihtiyacım olduğunda onu çağırarak kullanabilirim\n",
    "* Bu yapının adı `funtions`'tır\n",
    "\n",
    "##### Abstraction nedir?\n",
    "Bir araba düşünün;\n",
    "* Araba bizi istediğimiz yere götüren bir araç\n",
    "* Arabanın hareketini sağlayan arkaplanda bilmediğimiz bir çok işlem var\n",
    "* Motor, piston hareketi, hidrolik direksiyon vb.\n",
    "* Ancak... Arabayı kullanırken bunları düşünmüyoruz. Yapmamız gereken sadece pedallar ve direksiyonu kontrol etmek\n",
    "`abstraction`'ın temel amacı parçalardan çok bütünü düşünmek. Arabanın nasıl çalıştığının ayrıntısını bilmeme gerek yok. Arabayı kullanabilmek için pedalları ve direksiyonu kullanmam gerek. Sistem benim direksiyon ve pedallardan verdiğim inputlara göre arka planda diğer ayrıntıları otomatikmen kendi halletsin\n",
    "\n",
    "##### Decomposition nedir?\n",
    "Elimdeki problemi kendi içerisinde anlamlı daha küçük problemlere bölmek. Arabanın çalışması arka planda yatan bir çok mekanizma ile gerçekleşir.\n",
    "motorun ateşlenmesi, havanın motora alınması vs. bunların hepsini aslında ayrı ayrı fonksiyonlar olarak düşünebiliriz. Problemi (Arabanın hareket etmesini) alt birimlere ayırıp, tanımlayıp, çözüyoruz. Birden çok alt yapı bir arada çalışıp bir bütünü oluşturuyor\n",
    "\n",
    "* Kodumuzun farklı yerlerinde kullanılabilecek, beraber bir mantık oluşturabilecek kodlarımı `function` olarak tanımlayıp içine yazacağım\n",
    "* Fonksiyonların adı, parametreleri(0 ve ya daha fazla), açıklaması (opsiyonel ama iyi bir pratik) ve kodları blunur\n",
    "* Sadece adlarını yazınca çağrılmazlar. `()` ile çağırmamız lazım. (`function call` veya `function invocation` diye geçiyor)\n",
    "\n",
    "##### return\n",
    "* Bir fonksiyonu çalıştırdığımızda onun sonucu ile bir şeyler yapmak isteyebilirim. Sonucu bize dönmesi için özellikle `return` demem lazım. `return <variable>\"` gibi\n",
    "* Yazılmassa fonsiyon çalışır ama bir değer geri döndürmez\n",
    "* Fonksiyon tanımladığımı python'da belirtmek için yapım: \n",
    "* `def function_name(input):`\n",
    "* Diğer yapılarda olduğu gibi kod bloğumu bu yapıya ait olduğunu belirtmek için boşluk bırakarak içine yazmamız gerekiyor\n",
    "* e.g: Verilen değerin karesini alan bir fonksiyon"
   ]
  },
  {
   "cell_type": "code",
   "execution_count": 18,
   "metadata": {},
   "outputs": [],
   "source": [
    "def square(x):\n",
    "    x*x"
   ]
  },
  {
   "cell_type": "code",
   "execution_count": 19,
   "metadata": {},
   "outputs": [
    {
     "ename": "TypeError",
     "evalue": "unsupported operand type(s) for +: 'NoneType' and 'int'",
     "output_type": "error",
     "traceback": [
      "\u001b[1;31m---------------------------------------------------------------------------\u001b[0m",
      "\u001b[1;31mTypeError\u001b[0m                                 Traceback (most recent call last)",
      "Input \u001b[1;32mIn [19]\u001b[0m, in \u001b[0;36m<module>\u001b[1;34m\u001b[0m\n\u001b[0;32m      1\u001b[0m \u001b[38;5;66;03m# Square fonksiyonu çalışacak ama return ile bir değer döndürmediği için toplama işleminde hata verecek\u001b[39;00m\n\u001b[1;32m----> 2\u001b[0m a \u001b[38;5;241m=\u001b[39m \u001b[43msquare\u001b[49m\u001b[43m(\u001b[49m\u001b[38;5;241;43m5\u001b[39;49m\u001b[43m)\u001b[49m\u001b[43m \u001b[49m\u001b[38;5;241;43m+\u001b[39;49m\u001b[43m \u001b[49m\u001b[38;5;241;43m5\u001b[39;49m\n",
      "\u001b[1;31mTypeError\u001b[0m: unsupported operand type(s) for +: 'NoneType' and 'int'"
     ]
    }
   ],
   "source": [
    "# Square fonksiyonu çalışacak ama return ile bir değer döndürmediği için toplama işleminde hata verecek\n",
    "a = square(5) + 5"
   ]
  },
  {
   "cell_type": "code",
   "execution_count": 20,
   "metadata": {},
   "outputs": [],
   "source": [
    "def square(x):\n",
    "    return x*x"
   ]
  },
  {
   "cell_type": "code",
   "execution_count": 22,
   "metadata": {},
   "outputs": [
    {
     "data": {
      "text/plain": [
       "25"
      ]
     },
     "execution_count": 22,
     "metadata": {},
     "output_type": "execute_result"
    }
   ],
   "source": [
    "square(5)"
   ]
  },
  {
   "cell_type": "code",
   "execution_count": 23,
   "metadata": {},
   "outputs": [
    {
     "data": {
      "text/plain": [
       "int"
      ]
     },
     "execution_count": 23,
     "metadata": {},
     "output_type": "execute_result"
    }
   ],
   "source": [
    "type(square(4))"
   ]
  },
  {
   "cell_type": "code",
   "execution_count": 24,
   "metadata": {},
   "outputs": [],
   "source": [
    "# Hiç inputu olmayabilir de\n",
    "def weird():\n",
    "    return 10"
   ]
  },
  {
   "cell_type": "code",
   "execution_count": 25,
   "metadata": {},
   "outputs": [
    {
     "data": {
      "text/plain": [
       "20"
      ]
     },
     "execution_count": 25,
     "metadata": {},
     "output_type": "execute_result"
    }
   ],
   "source": [
    "a = weird() + 10\n",
    "a"
   ]
  },
  {
   "cell_type": "markdown",
   "metadata": {},
   "source": [
    "* Yukarıdaki kodda bilgisayar için `weird()` fonksiyonunun `10`'dan bir farkı yoktur "
   ]
  },
  {
   "cell_type": "markdown",
   "metadata": {},
   "source": [
    "* Fonksiyonlar `return` kodunu görünce direk sonlanırlar. `return` den sonra yazılan hiç bir kodu görmezler"
   ]
  },
  {
   "cell_type": "code",
   "execution_count": 26,
   "metadata": {},
   "outputs": [],
   "source": [
    "def square(x):\n",
    "    res = x * x\n",
    "    return res\n",
    "    print(\"Sonuc :\", res)"
   ]
  },
  {
   "cell_type": "code",
   "execution_count": 27,
   "metadata": {},
   "outputs": [
    {
     "data": {
      "text/plain": [
       "16"
      ]
     },
     "execution_count": 27,
     "metadata": {},
     "output_type": "execute_result"
    }
   ],
   "source": [
    "square(4)"
   ]
  },
  {
   "cell_type": "code",
   "execution_count": 28,
   "metadata": {},
   "outputs": [],
   "source": [
    "def square(x):\n",
    "    res = x * x\n",
    "    print(\"Sonuc :\", res)\n",
    "    return res"
   ]
  },
  {
   "cell_type": "code",
   "execution_count": 29,
   "metadata": {},
   "outputs": [
    {
     "name": "stdout",
     "output_type": "stream",
     "text": [
      "Sonuc : 16\n"
     ]
    },
    {
     "data": {
      "text/plain": [
       "16"
      ]
     },
     "execution_count": 29,
     "metadata": {},
     "output_type": "execute_result"
    }
   ],
   "source": [
    "square(4)"
   ]
  },
  {
   "cell_type": "markdown",
   "metadata": {},
   "source": [
    "* Farklı sonuclara göre farklı `return`'ler yapabilirim.\n",
    "* e.g: girilen sayının karesinin sonucu çift ise geri dönsün tek ise ekrana tek yazsın"
   ]
  },
  {
   "cell_type": "code",
   "execution_count": 30,
   "metadata": {},
   "outputs": [],
   "source": [
    "def square(x):\n",
    "    res = x*x\n",
    "\n",
    "    if x % 2 == 0:\n",
    "        return res\n",
    "    else:\n",
    "        print(\"Sonuc tek sayi\", res)"
   ]
  },
  {
   "cell_type": "code",
   "execution_count": 31,
   "metadata": {},
   "outputs": [
    {
     "data": {
      "text/plain": [
       "16"
      ]
     },
     "execution_count": 31,
     "metadata": {},
     "output_type": "execute_result"
    }
   ],
   "source": [
    "square(4)"
   ]
  },
  {
   "cell_type": "code",
   "execution_count": 32,
   "metadata": {},
   "outputs": [
    {
     "name": "stdout",
     "output_type": "stream",
     "text": [
      "Sonuc tek sayi 25\n"
     ]
    }
   ],
   "source": [
    "square(5)"
   ]
  },
  {
   "cell_type": "markdown",
   "metadata": {},
   "source": [
    "* Fonksiyonların içinde döngülerde olabilir"
   ]
  },
  {
   "cell_type": "code",
   "execution_count": 33,
   "metadata": {},
   "outputs": [],
   "source": [
    "def square(x):\n",
    "    for i in range(x):\n",
    "        print(i*i)\n",
    "    return x*x"
   ]
  },
  {
   "cell_type": "code",
   "execution_count": 34,
   "metadata": {},
   "outputs": [
    {
     "name": "stdout",
     "output_type": "stream",
     "text": [
      "0\n",
      "1\n",
      "4\n",
      "9\n",
      "16\n"
     ]
    },
    {
     "data": {
      "text/plain": [
       "25"
      ]
     },
     "execution_count": 34,
     "metadata": {},
     "output_type": "execute_result"
    }
   ],
   "source": [
    "square(5)"
   ]
  }
 ],
 "metadata": {
  "interpreter": {
   "hash": "b89b5cfaba6639976dc87ff2fec6d58faec662063367e2c229c520fe71072417"
  },
  "kernelspec": {
   "display_name": "Python 3.10.1 64-bit",
   "language": "python",
   "name": "python3"
  },
  "language_info": {
   "codemirror_mode": {
    "name": "ipython",
    "version": 3
   },
   "file_extension": ".py",
   "mimetype": "text/x-python",
   "name": "python",
   "nbconvert_exporter": "python",
   "pygments_lexer": "ipython3",
   "version": "3.10.1"
  },
  "orig_nbformat": 4
 },
 "nbformat": 4,
 "nbformat_minor": 2
}
