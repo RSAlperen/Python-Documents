{
 "cells": [
  {
   "cell_type": "markdown",
   "metadata": {},
   "source": [
    "##### Creation Date:\n",
    "##### January 23 2022\n",
    "##### Created By Alperen KOLAMUC"
   ]
  },
  {
   "cell_type": "code",
   "execution_count": 2,
   "metadata": {},
   "outputs": [],
   "source": [
    "def square(x):\n",
    "    return x*x"
   ]
  },
  {
   "cell_type": "code",
   "execution_count": 3,
   "metadata": {},
   "outputs": [
    {
     "data": {
      "text/plain": [
       "9"
      ]
     },
     "execution_count": 3,
     "metadata": {},
     "output_type": "execute_result"
    }
   ],
   "source": [
    "square(3)"
   ]
  },
  {
   "cell_type": "markdown",
   "metadata": {},
   "source": [
    "##### Function Descriptions\n",
    "* Bir fonksiyon yazarken genellikle fonksiyonun isimini yaptığı işi anlatacak bir veya bir kaç kelimeden seçerek yazarız. Fakat bazen fonksiyonun ne yaptığını ve ya içine yazdığımız parametrelerin ne olduğunu unutabilir veya bilmeyebiliriz. Eski yazdığımız kodu unutabilir veya bir başkasının yazıdğı kodu anlayamayabiliriz. İşte bu gibi durumlarda fonksiyonlara kısa açıklamalar yazmakta fayda vardır."
   ]
  },
  {
   "cell_type": "code",
   "execution_count": 4,
   "metadata": {},
   "outputs": [
    {
     "data": {
      "text/plain": [
       "'\\n    Bir fonksiyonun açıklama yazısı derleyicinin info kısmında çıkmasını istiyorsak açıklamayı fonksiyon adının altına yapmamız lazım.\\n'"
      ]
     },
     "execution_count": 4,
     "metadata": {},
     "output_type": "execute_result"
    }
   ],
   "source": [
    "# '#' işareti ile tek satırlık açıklama yazılır\n",
    "\n",
    "\"\"\"\n",
    "Bu şekilde de çok satırlı açıklama notları yazılabilir.\n",
    "\"\"\"\n",
    "\n",
    "\"\"\"\n",
    "    Bir fonksiyonun açıklama yazısı derleyicinin info kısmında çıkmasını istiyorsak açıklamayı fonksiyon adının altına yapmamız lazım.\n",
    "\"\"\""
   ]
  },
  {
   "cell_type": "code",
   "execution_count": 5,
   "metadata": {},
   "outputs": [],
   "source": [
    "def square(x):\n",
    "    \"\"\"\n",
    "    x: karesini almak istediğimiz sayı.\n",
    "    Fonksiyon girilen x sayısının karesi ile geri döner\n",
    "    \"\"\"\n",
    "    return x*x"
   ]
  },
  {
   "cell_type": "code",
   "execution_count": 6,
   "metadata": {},
   "outputs": [
    {
     "data": {
      "text/plain": [
       "16"
      ]
     },
     "execution_count": 6,
     "metadata": {},
     "output_type": "execute_result"
    }
   ],
   "source": [
    "square(4)"
   ]
  }
 ],
 "metadata": {
  "interpreter": {
   "hash": "b89b5cfaba6639976dc87ff2fec6d58faec662063367e2c229c520fe71072417"
  },
  "kernelspec": {
   "display_name": "Python 3.10.1 64-bit",
   "language": "python",
   "name": "python3"
  },
  "language_info": {
   "codemirror_mode": {
    "name": "ipython",
    "version": 3
   },
   "file_extension": ".py",
   "mimetype": "text/x-python",
   "name": "python",
   "nbconvert_exporter": "python",
   "pygments_lexer": "ipython3",
   "version": "3.10.1"
  },
  "orig_nbformat": 4
 },
 "nbformat": 4,
 "nbformat_minor": 2
}
