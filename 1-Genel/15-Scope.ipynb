{
 "cells": [
  {
   "cell_type": "markdown",
   "metadata": {},
   "source": [
    "##### Creation Date:\n",
    "##### January 23 2022\n",
    "##### Created By Alperen KOLAMUC"
   ]
  },
  {
   "cell_type": "markdown",
   "metadata": {},
   "source": [
    "#### Scope (Kapsam)"
   ]
  },
  {
   "cell_type": "markdown",
   "metadata": {},
   "source": [
    "#### Local & Global Variables"
   ]
  },
  {
   "cell_type": "markdown",
   "metadata": {},
   "source": [
    "##### Local Variable'a Global'de Erişme"
   ]
  },
  {
   "cell_type": "code",
   "execution_count": 1,
   "metadata": {},
   "outputs": [],
   "source": [
    "x = \"Global_X\"\n",
    "# y burada foo() fonksiyonunun local değişkeni\n",
    "def foo():\n",
    "    y = \"Local_Y\"\n",
    "    print(y)"
   ]
  },
  {
   "cell_type": "code",
   "execution_count": 2,
   "metadata": {},
   "outputs": [
    {
     "name": "stdout",
     "output_type": "stream",
     "text": [
      "Local_Y\n"
     ]
    }
   ],
   "source": [
    "foo()"
   ]
  },
  {
   "cell_type": "code",
   "execution_count": 4,
   "metadata": {},
   "outputs": [
    {
     "ename": "NameError",
     "evalue": "name 'y' is not defined",
     "output_type": "error",
     "traceback": [
      "\u001b[1;31m---------------------------------------------------------------------------\u001b[0m",
      "\u001b[1;31mNameError\u001b[0m                                 Traceback (most recent call last)",
      "Input \u001b[1;32mIn [4]\u001b[0m, in \u001b[0;36m<module>\u001b[1;34m\u001b[0m\n\u001b[0;32m      1\u001b[0m \u001b[38;5;66;03m# Global'in Local'e erişimi yok. \"y\" sadece Localde var, o yüzden hata verecek\u001b[39;00m\n\u001b[1;32m----> 2\u001b[0m \u001b[38;5;28mprint\u001b[39m(\u001b[43my\u001b[49m)\n",
      "\u001b[1;31mNameError\u001b[0m: name 'y' is not defined"
     ]
    }
   ],
   "source": [
    "# Global'in Local'e erişimi yok. \"y\" sadece Localde var, o yüzden hata verecek\n",
    "print(y)"
   ]
  },
  {
   "cell_type": "markdown",
   "metadata": {},
   "source": [
    "##### Değişken `Local`'de bulunamazsa `Global`'e bakılır\n",
    "* Local scope'da local'de tanımlı olmayan bir değşkene uaşılmaya çalışınca, global scope'a bakar, eğer değişken oradaysa o değişkenin değerini kullanır "
   ]
  },
  {
   "cell_type": "code",
   "execution_count": 5,
   "metadata": {},
   "outputs": [],
   "source": [
    "x = \"global_x\"\n",
    "\n",
    "def foo():\n",
    "    y = \"local_y\"\n",
    "    print(x)"
   ]
  },
  {
   "cell_type": "code",
   "execution_count": 6,
   "metadata": {},
   "outputs": [
    {
     "name": "stdout",
     "output_type": "stream",
     "text": [
      "global_x\n"
     ]
    }
   ],
   "source": [
    "foo()"
   ]
  },
  {
   "cell_type": "code",
   "execution_count": 7,
   "metadata": {},
   "outputs": [
    {
     "name": "stdout",
     "output_type": "stream",
     "text": [
      "global_x\n"
     ]
    }
   ],
   "source": [
    "print(x)"
   ]
  },
  {
   "cell_type": "markdown",
   "metadata": {},
   "source": [
    "##### Local'de Global'de de Olan Bir Variable İsmi İle Bir Atama Yapsak Global'de ki Değeri Etkilemez\n",
    "* Değişkenin ismi farklı scope'larda aynı olabilir ama içinde bulunan değişkenin değerini kullanır diğerlerini etkilemez"
   ]
  },
  {
   "cell_type": "code",
   "execution_count": 8,
   "metadata": {},
   "outputs": [],
   "source": [
    "x = \"global_x\"\n",
    "\n",
    "def foo():\n",
    "    x = \"local_x\"\n",
    "    print(x)"
   ]
  },
  {
   "cell_type": "code",
   "execution_count": 9,
   "metadata": {},
   "outputs": [
    {
     "name": "stdout",
     "output_type": "stream",
     "text": [
      "local_x\n"
     ]
    }
   ],
   "source": [
    "foo()"
   ]
  },
  {
   "cell_type": "code",
   "execution_count": 10,
   "metadata": {},
   "outputs": [
    {
     "name": "stdout",
     "output_type": "stream",
     "text": [
      "global_x\n"
     ]
    }
   ],
   "source": [
    "# Global'deki x değişmedi. Sadece foo() fonksiyonunun içindeki local x değeri değişti\n",
    "print(x)"
   ]
  },
  {
   "cell_type": "markdown",
   "metadata": {},
   "source": [
    "##### Fonksiyon Inputu"
   ]
  },
  {
   "cell_type": "code",
   "execution_count": 12,
   "metadata": {},
   "outputs": [
    {
     "name": "stdout",
     "output_type": "stream",
     "text": [
      "Fonksiyon çalışıyor\n",
      "------------------------------------\n",
      "Function scope'taki x in değeri 2\n",
      "local scope a'nın değeri 5\n",
      "------------------------------------\n",
      "------------------------------------\n",
      "global scope x'nın değeri 10\n",
      "global scope a'nın değeri: 2\n"
     ]
    }
   ],
   "source": [
    "x = 10\n",
    "a = 2\n",
    "def foo(x):\n",
    "    print(\"Function scope'taki x in değeri\", x)\n",
    "    a = 5\n",
    "    print(\"local scope a'nın değeri\", a)\n",
    "    print(\"------------------------------------\")\n",
    "    return 2 * x\n",
    "\n",
    "print(\"Fonksiyon çalışıyor\")\n",
    "print(\"------------------------------------\")\n",
    "foo(a)\n",
    "print(\"------------------------------------\")\n",
    "print(\"global scope x'nın değeri\", x)\n",
    "print(\"global scope a'nın değeri:\", a)\n"
   ]
  },
  {
   "cell_type": "markdown",
   "metadata": {},
   "source": [
    "##### global"
   ]
  },
  {
   "cell_type": "code",
   "execution_count": 13,
   "metadata": {},
   "outputs": [],
   "source": [
    "x = \"global_x\"\n",
    "def foo():\n",
    "    global x # python'a bu \"x\" i global \"x\" almak istediğimizi söylüyoruz\n",
    "    print(x)"
   ]
  },
  {
   "cell_type": "code",
   "execution_count": 14,
   "metadata": {},
   "outputs": [
    {
     "name": "stdout",
     "output_type": "stream",
     "text": [
      "global_x\n"
     ]
    }
   ],
   "source": [
    "foo()"
   ]
  },
  {
   "cell_type": "code",
   "execution_count": 17,
   "metadata": {},
   "outputs": [],
   "source": [
    "x = \"global_x\"\n",
    "def foo():\n",
    "    global x\n",
    "    x = \"local_x\" # global \"x\" in değeri değişecek\n",
    "    print(x)"
   ]
  },
  {
   "cell_type": "code",
   "execution_count": 18,
   "metadata": {},
   "outputs": [
    {
     "name": "stdout",
     "output_type": "stream",
     "text": [
      "local_x\n"
     ]
    }
   ],
   "source": [
    "foo()"
   ]
  },
  {
   "cell_type": "code",
   "execution_count": 19,
   "metadata": {},
   "outputs": [
    {
     "name": "stdout",
     "output_type": "stream",
     "text": [
      "local_x\n"
     ]
    }
   ],
   "source": [
    "print(x)"
   ]
  },
  {
   "cell_type": "code",
   "execution_count": 21,
   "metadata": {},
   "outputs": [
    {
     "data": {
      "text/plain": [
       "'local_x'"
      ]
     },
     "execution_count": 21,
     "metadata": {},
     "output_type": "execute_result"
    }
   ],
   "source": [
    "x"
   ]
  },
  {
   "cell_type": "code",
   "execution_count": 22,
   "metadata": {},
   "outputs": [],
   "source": [
    "del x"
   ]
  },
  {
   "cell_type": "code",
   "execution_count": 23,
   "metadata": {},
   "outputs": [
    {
     "ename": "NameError",
     "evalue": "name 'x' is not defined",
     "output_type": "error",
     "traceback": [
      "\u001b[1;31m---------------------------------------------------------------------------\u001b[0m",
      "\u001b[1;31mNameError\u001b[0m                                 Traceback (most recent call last)",
      "Input \u001b[1;32mIn [23]\u001b[0m, in \u001b[0;36m<module>\u001b[1;34m\u001b[0m\n\u001b[1;32m----> 1\u001b[0m \u001b[43mx\u001b[49m\n",
      "\u001b[1;31mNameError\u001b[0m: name 'x' is not defined"
     ]
    }
   ],
   "source": [
    "x"
   ]
  },
  {
   "cell_type": "code",
   "execution_count": 24,
   "metadata": {},
   "outputs": [
    {
     "name": "stdout",
     "output_type": "stream",
     "text": [
      "local_x\n"
     ]
    }
   ],
   "source": [
    "# Şu an global'de x yok. Fonksiyonu çağırdığımda globalde x değişkeni oluşturacak\n",
    "foo()"
   ]
  },
  {
   "cell_type": "code",
   "execution_count": 25,
   "metadata": {},
   "outputs": [
    {
     "name": "stdout",
     "output_type": "stream",
     "text": [
      "local_x\n"
     ]
    }
   ],
   "source": [
    "print(x)"
   ]
  },
  {
   "cell_type": "markdown",
   "metadata": {},
   "source": [
    "#### Built-in Scope\n",
    "#####\n",
    "* Kendimiz built-in olan bir fonksiyontanımlarsak artık yeni tanımladığımızı kullanır. Çünkü son baktığı yer built-in **Local->Enclosing->Global->Built-in**"
   ]
  },
  {
   "cell_type": "code",
   "execution_count": 26,
   "metadata": {},
   "outputs": [
    {
     "data": {
      "text/plain": [
       "1"
      ]
     },
     "execution_count": 26,
     "metadata": {},
     "output_type": "execute_result"
    }
   ],
   "source": [
    "min([1,2,3,4]) # min built function"
   ]
  },
  {
   "cell_type": "code",
   "execution_count": 27,
   "metadata": {},
   "outputs": [],
   "source": [
    "def min(l):\n",
    "    print(\"useless min\")"
   ]
  },
  {
   "cell_type": "code",
   "execution_count": 28,
   "metadata": {},
   "outputs": [
    {
     "name": "stdout",
     "output_type": "stream",
     "text": [
      "useless min\n"
     ]
    }
   ],
   "source": [
    "min([1,2,3,4])"
   ]
  },
  {
   "cell_type": "markdown",
   "metadata": {},
   "source": [
    "#### Nested Function Scope"
   ]
  },
  {
   "cell_type": "code",
   "execution_count": 29,
   "metadata": {},
   "outputs": [
    {
     "name": "stdout",
     "output_type": "stream",
     "text": [
      "x in function scope f is:  5\n",
      "a 4\n",
      "x 3\n",
      "z 5\n"
     ]
    }
   ],
   "source": [
    "def foo(x):\n",
    "    def g():\n",
    "        x = \"inner_function_x\"\n",
    "    \n",
    "    x = x + 1\n",
    "    print(\"x in function scope foo is: \", x)\n",
    "\n",
    "    a = g()\n",
    "    return x\n",
    "\n",
    "x = 3\n",
    "a = 4\n",
    "\n",
    "z = foo(a)\n",
    "\n",
    "print(\"a\", a)\n",
    "print(\"x\", x)\n",
    "print(\"z\", z)"
   ]
  },
  {
   "cell_type": "code",
   "execution_count": 30,
   "metadata": {},
   "outputs": [
    {
     "name": "stdout",
     "output_type": "stream",
     "text": [
      "x in function scope foo is:  4\n",
      "x in scope 4\n",
      "a 4\n",
      "x 3\n",
      "z 4\n"
     ]
    }
   ],
   "source": [
    "def foo(x):\n",
    "    def g():\n",
    "        print(\"x in scope\", x)\n",
    "\n",
    "    print(\"x in function scope foo is: \", x)\n",
    "    \n",
    "    a = g()\n",
    "    return x\n",
    "\n",
    "x = 3\n",
    "a = 4\n",
    "\n",
    "z = foo(a)\n",
    "\n",
    "print(\"a\", a)\n",
    "print(\"x\", x)\n",
    "print(\"z\", z)"
   ]
  },
  {
   "cell_type": "code",
   "execution_count": 32,
   "metadata": {},
   "outputs": [
    {
     "name": "stdout",
     "output_type": "stream",
     "text": [
      "x in function scope f is:  5\n",
      "x in funciton g scope 5\n",
      "a 4\n",
      "x 3\n",
      "z 5\n"
     ]
    }
   ],
   "source": [
    "def foo(x):\n",
    "    def g():\n",
    "        print(\"x in funciton g scope\", x)\n",
    "    \n",
    "    x = x + 1\n",
    "    print(\"x in function scope foo is: \", x)\n",
    "\n",
    "    a = g()\n",
    "    return x\n",
    "\n",
    "x = 3\n",
    "a = 4\n",
    "\n",
    "z = foo(a)\n",
    "\n",
    "print(\"a\", a)\n",
    "print(\"x\", x)\n",
    "print(\"z\", z)"
   ]
  },
  {
   "cell_type": "code",
   "execution_count": 33,
   "metadata": {},
   "outputs": [
    {
     "name": "stdout",
     "output_type": "stream",
     "text": [
      "x in function scope f is:  4\n",
      "x 3\n",
      "z 4\n"
     ]
    }
   ],
   "source": [
    "def foo(x):\n",
    "    def g():\n",
    "        x = \"inner_function_x\"\n",
    "    \n",
    "    x = x + 1\n",
    "    print(\"x in function scope foo is: \", x)\n",
    "\n",
    "    a = g()\n",
    "    return x\n",
    "\n",
    "x = 3\n",
    "\n",
    "z = foo(x)\n",
    "\n",
    "print(\"x\", x)\n",
    "print(\"z\", z)"
   ]
  },
  {
   "cell_type": "code",
   "execution_count": 34,
   "metadata": {},
   "outputs": [
    {
     "name": "stdout",
     "output_type": "stream",
     "text": [
      "x in function scope foo is:  3\n",
      "a None\n",
      "x 3\n",
      "z 3\n"
     ]
    }
   ],
   "source": [
    "def foo(y):\n",
    "    def g():\n",
    "        x = \"inner_function_x\"\n",
    "    \n",
    "    a = g()\n",
    "    print(\"x in function scope foo is: \", x)\n",
    "    print(\"a\", a)\n",
    "    return x\n",
    "\n",
    "x = 3\n",
    "\n",
    "z = foo(x)\n",
    "\n",
    "print(\"x\", x)\n",
    "print(\"z\", z)"
   ]
  },
  {
   "cell_type": "code",
   "execution_count": 36,
   "metadata": {},
   "outputs": [
    {
     "name": "stdout",
     "output_type": "stream",
     "text": [
      "x in function scope foo is:  4\n",
      "x in g scope is: 3\n",
      "x in global scope is:  3\n",
      "z in global scope is:  4\n"
     ]
    }
   ],
   "source": [
    "def g():\n",
    "    print(\"x in g scope is:\", x)\n",
    "\n",
    "def foo(x):\n",
    "    x = x + 1\n",
    "\n",
    "    print(\"x in function scope foo is: \", x)\n",
    "    a = g()\n",
    "    return x\n",
    "\n",
    "x = 3\n",
    "\n",
    "z = foo(x)\n",
    "\n",
    "print(\"x in global scope is: \", x)\n",
    "print(\"z in global scope is: \", z)"
   ]
  },
  {
   "cell_type": "code",
   "execution_count": 37,
   "metadata": {},
   "outputs": [
    {
     "name": "stdout",
     "output_type": "stream",
     "text": [
      "x in function scope f is:  5\n",
      "a 4\n",
      "x 3\n",
      "z 5\n"
     ]
    }
   ],
   "source": [
    "def foo(x):\n",
    "    def g():\n",
    "        x = \"inner_function_x\"\n",
    "    \n",
    "    x = x + 1\n",
    "    print(\"x in function scope f is: \", x)\n",
    "\n",
    "    a = g()\n",
    "    return x\n",
    "\n",
    "x = 3\n",
    "a = 4\n",
    "\n",
    "z = foo(a)\n",
    "\n",
    "print(\"a\", a)\n",
    "print(\"x\", x)\n",
    "print(\"z\", z)"
   ]
  }
 ],
 "metadata": {
  "interpreter": {
   "hash": "b89b5cfaba6639976dc87ff2fec6d58faec662063367e2c229c520fe71072417"
  },
  "kernelspec": {
   "display_name": "Python 3.10.1 64-bit",
   "language": "python",
   "name": "python3"
  },
  "language_info": {
   "codemirror_mode": {
    "name": "ipython",
    "version": 3
   },
   "file_extension": ".py",
   "mimetype": "text/x-python",
   "name": "python",
   "nbconvert_exporter": "python",
   "pygments_lexer": "ipython3",
   "version": "3.10.1"
  },
  "orig_nbformat": 4
 },
 "nbformat": 4,
 "nbformat_minor": 2
}
