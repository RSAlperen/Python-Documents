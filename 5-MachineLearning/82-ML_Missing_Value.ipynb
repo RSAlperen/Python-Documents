{
 "cells": [
  {
   "cell_type": "markdown",
   "metadata": {},
   "source": [
    "##### Creation Date:\n",
    "##### February 19 2022\n",
    "##### Created By Alperen KOLAMUC"
   ]
  },
  {
   "cell_type": "code",
   "execution_count": 1,
   "metadata": {},
   "outputs": [],
   "source": [
    "from sklearn.ensemble import RandomForestRegressor\n",
    "from IPython.display import display\n",
    "from sklearn import metrics"
   ]
  },
  {
   "cell_type": "code",
   "execution_count": 2,
   "metadata": {},
   "outputs": [],
   "source": [
    "import re\n",
    "from pandas.api.types import is_string_dtype\n",
    "from pandas.api.types import is_numeric_dtype"
   ]
  },
  {
   "cell_type": "code",
   "execution_count": 3,
   "metadata": {},
   "outputs": [],
   "source": [
    "import pandas as pd\n",
    "import numpy as np"
   ]
  },
  {
   "cell_type": "code",
   "execution_count": 4,
   "metadata": {},
   "outputs": [],
   "source": [
    "df = pd.read_feather(\"tmp/bulldozers_1\")"
   ]
  },
  {
   "cell_type": "markdown",
   "metadata": {},
   "source": [
    "#### Missing Value"
   ]
  },
  {
   "cell_type": "markdown",
   "metadata": {},
   "source": [
    "* Bir `DataFrame`'de verimde sadece bir sütununda ve ya bir kaç sutununda `NA` yani boş veri olabilir. Bu boş verileri nasıl temizleriz? komple o satırı silsem; e o satırdaki belki çok önemli diğer bilgileride silmiş olacağım. Bu bir sorun. Peki o zaman o sütuna bakar en sık görülen değeri oraya yazabilirim? Evet bu bir çözüm olurdu ancak sırf bir veri çok görülüyor diye onu yazmak tam anlamıyla çözüm olmaz. Mesela bir taksi şirketinde 3 farklı renkte taksi olsun sarı, mavi, gri. Sarı renkten 100 tane, mavi'den 50 tane ve gri'den 10 tane olsa ve fiyat ve komfor olarak gri>mavi>sarı olsa şimdi gri takside renk değeri girilmemiş ama fiyat ve komfor değerleri girilmiş sırf çok var diye sarı renk yazarsam bu sefer model sarı renkli arabaların komfor ve fiyat değerlerine + yönde bir ekleme yapacak. Bu sorunun en makul çözümlerinden biri o sütunun ortalamasını alırım ve ortalama değeri boş kutuya yazarım. Model gelip bu değeri alır ama burada bir eksik daha var. Bu değerin gerçek bir değer olup olmadığını model bilmiyor. Bu değerin bizim oluşturduğumuz tahmin bir değer olduğunuda belirtmemiz lazım. O zaman `NA` olan bir sutunun yanına birde <`NA'lı sutun ismi` + `_fill_NA`> adında bir sutun daha koyarım. Eğer o satıdaki değeri ben yazmışsam `_fill_NA` sutnundaki değeri `True` yaparım eğer ben yazmamışsam `_fill_NA` sutunundaki değeri `False` yaparım. Böylece model o kutudaki değerin gerçek değer olup olmadığınında farkına varır"
   ]
  },
  {
   "cell_type": "markdown",
   "metadata": {},
   "source": []
  },
  {
   "cell_type": "markdown",
   "metadata": {},
   "source": [
    "|   | Renk | Fiyat | Komfor (%) |\n",
    "|:-:|:----:|:-----:|:----------:|\n",
    "| 1 | Sarı |  10K  |     40     |\n",
    "| 2 | Sarı |  10K  |     40     |\n",
    "| 3 | Mavi |  20K  |     60     |\n",
    "| 4 |  NA  |  50K  |     95     |\n",
    "| 5 | Sarı |  10K  |     40     |"
   ]
  },
  {
   "cell_type": "markdown",
   "metadata": {},
   "source": [
    "|   | Renk | Renk_Fill_Na | Fiyat | Komfor (%) |\n",
    "|:-:|:----:|:------------:|:-----:|:----------:|\n",
    "| 1 | Sarı |     False    |  10K  |     40     |\n",
    "| 2 | Sarı |     False    |  10K  |     40     |\n",
    "| 3 | Mavi |     False    |  20K  |     60     |\n",
    "| 4 | Sarı |     True     |  50K  |     95     |\n",
    "| 5 | Sarı |     False    |  10K  |     40     |"
   ]
  },
  {
   "cell_type": "code",
   "execution_count": 5,
   "metadata": {},
   "outputs": [],
   "source": [
    "def fix_missing(df, col, name):\n",
    "    if is_numeric_dtype(col):\n",
    "        if pd.isnull(col).sum(): # if pd.isnull(col).sum != 0, col.isnull().sum() != 0\n",
    "            df[name+\"_na\"] = pd.isnull(col)\n",
    "        df[name] = col.fillna(col.median())"
   ]
  },
  {
   "cell_type": "code",
   "execution_count": 6,
   "metadata": {},
   "outputs": [
    {
     "name": "stdout",
     "output_type": "stream",
     "text": [
      "auctioneerID\n",
      "MachineHoursCurrentMeter\n"
     ]
    }
   ],
   "source": [
    "# Print has null columns\n",
    "for n,c in df.items():\n",
    "    if is_numeric_dtype(c):\n",
    "        if df[n].isnull().sum():\n",
    "            print(n)"
   ]
  },
  {
   "cell_type": "code",
   "execution_count": 7,
   "metadata": {},
   "outputs": [
    {
     "data": {
      "text/plain": [
       "249575"
      ]
     },
     "execution_count": 7,
     "metadata": {},
     "output_type": "execute_result"
    }
   ],
   "source": [
    "# Print Nan Values sum\n",
    "df[\"MachineHoursCurrentMeter\"].isnull().sum()"
   ]
  },
  {
   "cell_type": "code",
   "execution_count": 8,
   "metadata": {},
   "outputs": [],
   "source": [
    "# Fixing NaN Values\n",
    "fix_missing(df, df[\"MachineHoursCurrentMeter\"],\"MachineHoursCurrentMeter\")"
   ]
  },
  {
   "cell_type": "code",
   "execution_count": 9,
   "metadata": {},
   "outputs": [
    {
     "data": {
      "text/plain": [
       "0"
      ]
     },
     "execution_count": 9,
     "metadata": {},
     "output_type": "execute_result"
    }
   ],
   "source": [
    "df[\"MachineHoursCurrentMeter\"].isnull().sum()"
   ]
  },
  {
   "cell_type": "code",
   "execution_count": 10,
   "metadata": {},
   "outputs": [
    {
     "data": {
      "text/plain": [
       "0          True\n",
       "1          True\n",
       "2          True\n",
       "3          True\n",
       "4          True\n",
       "          ...  \n",
       "339995    False\n",
       "339996    False\n",
       "339997    False\n",
       "339998    False\n",
       "339999    False\n",
       "Name: MachineHoursCurrentMeter_na, Length: 340000, dtype: bool"
      ]
     },
     "execution_count": 10,
     "metadata": {},
     "output_type": "execute_result"
    }
   ],
   "source": [
    "df[\"MachineHoursCurrentMeter_na\"]"
   ]
  }
 ],
 "metadata": {
  "kernelspec": {
   "display_name": "Python 3.10.5 64-bit",
   "language": "python",
   "name": "python3"
  },
  "language_info": {
   "codemirror_mode": {
    "name": "ipython",
    "version": 3
   },
   "file_extension": ".py",
   "mimetype": "text/x-python",
   "name": "python",
   "nbconvert_exporter": "python",
   "pygments_lexer": "ipython3",
   "version": "3.10.5"
  },
  "orig_nbformat": 4,
  "vscode": {
   "interpreter": {
    "hash": "f6d93cea15aa25cd6154ad73ef5572c382c028374c9d3d90f02e468d8b485a80"
   }
  }
 },
 "nbformat": 4,
 "nbformat_minor": 2
}
