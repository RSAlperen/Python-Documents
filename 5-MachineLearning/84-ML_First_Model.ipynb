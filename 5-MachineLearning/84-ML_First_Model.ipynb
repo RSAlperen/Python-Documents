{
 "cells": [
  {
   "cell_type": "markdown",
   "metadata": {},
   "source": [
    "##### Creation Date:\n",
    "##### February 19 2022\n",
    "##### Created By Alperen KOLAMUC"
   ]
  },
  {
   "cell_type": "code",
   "execution_count": 1,
   "metadata": {},
   "outputs": [],
   "source": [
    "from sklearn.ensemble import RandomForestRegressor\n",
    "from IPython.display import display\n",
    "from sklearn import metrics"
   ]
  },
  {
   "cell_type": "code",
   "execution_count": 2,
   "metadata": {},
   "outputs": [],
   "source": [
    "import re\n",
    "from pandas.api.types import is_string_dtype\n",
    "from pandas.api.types import is_numeric_dtype"
   ]
  },
  {
   "cell_type": "code",
   "execution_count": 3,
   "metadata": {},
   "outputs": [],
   "source": [
    "import pandas as pd\n",
    "import numpy as np\n",
    "import math"
   ]
  },
  {
   "cell_type": "markdown",
   "metadata": {},
   "source": [
    "##### Prepare\n"
   ]
  },
  {
   "cell_type": "code",
   "execution_count": 4,
   "metadata": {},
   "outputs": [],
   "source": [
    "df = pd.read_feather(\"tmp/bulldozers_1\")"
   ]
  },
  {
   "cell_type": "code",
   "execution_count": 5,
   "metadata": {},
   "outputs": [],
   "source": [
    "def numericalize(df, col, name):\n",
    "    if not is_numeric_dtype(col):\n",
    "        df[name] = col.cat.codes + 1 # ortak ağız için"
   ]
  },
  {
   "cell_type": "code",
   "execution_count": 6,
   "metadata": {},
   "outputs": [],
   "source": [
    "def fix_missing(df, col, name, nan_dict, is_train):\n",
    "    if is_train:\n",
    "        if is_numeric_dtype(col):\n",
    "            if pd.isnull(col).sum():\n",
    "                df[name+\"_NA\"] = pd.isnull(col)\n",
    "                nan_dict[name] = col.median()\n",
    "                df[name] = col.fillna(nan_dict[name])\n",
    "\n",
    "    else:\n",
    "        if is_numeric_dtype(col):\n",
    "            if name in nan_dict:\n",
    "                df[name+\"_NA\"] = pd.isnull(col)\n",
    "                df[name] = col.fillna(nan_dict[name])\n",
    "            \n",
    "            else:\n",
    "                df[name] = col.fillna(df[name].median())"
   ]
  },
  {
   "cell_type": "code",
   "execution_count": 7,
   "metadata": {},
   "outputs": [],
   "source": [
    "def proc_df(df, y_fld, nan_dict=None, is_train=True):\n",
    "    df = df.copy()\n",
    "    y = df[y_fld].values\n",
    "\n",
    "    df.drop([y_fld], axis=1, inplace=True)\n",
    "\n",
    "    if nan_dict is None:\n",
    "        nan_dict = {}\n",
    "    \n",
    "    for n, c in df.items():\n",
    "        fix_missing(df, c, n, nan_dict, is_train)\n",
    "        numericalize(df, c, n)\n",
    "\n",
    "    if is_train:\n",
    "        return df, y, nan_dict\n",
    "    \n",
    "    return df, y"
   ]
  },
  {
   "cell_type": "code",
   "execution_count": 8,
   "metadata": {},
   "outputs": [],
   "source": [
    "def split_train_val(df, n):\n",
    "    return(df[:n].copy(), df[n:].copy())"
   ]
  },
  {
   "cell_type": "code",
   "execution_count": 9,
   "metadata": {},
   "outputs": [],
   "source": [
    "n_valid = 12000\n",
    "n_train = len(df)-n_valid\n",
    "raw_train, raw_valid = split_train_val(df, n_train)"
   ]
  },
  {
   "cell_type": "code",
   "execution_count": 10,
   "metadata": {},
   "outputs": [],
   "source": [
    "x_train, y_train, nas = proc_df(raw_train, 'SalePrice')"
   ]
  },
  {
   "cell_type": "code",
   "execution_count": 11,
   "metadata": {},
   "outputs": [],
   "source": [
    "x_valid, y_valid = proc_df(raw_valid, 'SalePrice', nan_dict=nas, is_train=False)"
   ]
  },
  {
   "cell_type": "markdown",
   "metadata": {},
   "source": [
    "#### First Model\n",
    "* Default Olarak Score'u R^2 alır"
   ]
  },
  {
   "cell_type": "code",
   "execution_count": 12,
   "metadata": {},
   "outputs": [
    {
     "data": {
      "text/plain": [
       "1.0"
      ]
     },
     "execution_count": 12,
     "metadata": {},
     "output_type": "execute_result"
    }
   ],
   "source": [
    "m = RandomForestRegressor(n_estimators=1, bootstrap=False, n_jobs=-1)\n",
    "m.fit(x_train, y_train)\n",
    "m.score(x_train, y_train)"
   ]
  },
  {
   "cell_type": "markdown",
   "metadata": {},
   "source": [
    "* Score %100 Doğruluk üretti. Değer 1'e ne kadar yakınsa o kadar doğrudur.\n",
    "* Ama o kadar çabuk sevinmemek lazım. Bu sadece Train setinde olan"
   ]
  },
  {
   "cell_type": "code",
   "execution_count": 13,
   "metadata": {},
   "outputs": [],
   "source": [
    "def rmse(y_actual, y_predict):\n",
    "    return math.sqrt(((y_actual-y_predict)**2).mean())"
   ]
  },
  {
   "cell_type": "code",
   "execution_count": 14,
   "metadata": {},
   "outputs": [],
   "source": [
    "def print_score(m):\n",
    "\n",
    "    print(f\"RMSLE of train set {rmse(m.predict(x_train), y_train)}\")\n",
    "    print(f\"RMSLE of validation set {rmse(m.predict(x_valid), y_valid)}\")\n",
    "    print(f\"R^2 of train set {m.score(x_train, y_train)}\")\n",
    "    print(f\"R^2 of validation set {m.score(x_valid, y_valid)}\")\n"
   ]
  },
  {
   "cell_type": "markdown",
   "metadata": {},
   "source": [
    "#### Validation Score'una Bakmak"
   ]
  },
  {
   "cell_type": "code",
   "execution_count": 15,
   "metadata": {},
   "outputs": [
    {
     "name": "stdout",
     "output_type": "stream",
     "text": [
      "RMSLE of train set 9.744327389551985e-17\n",
      "RMSLE of validation set 0.3419616403057143\n",
      "R^2 of train set 1.0\n",
      "R^2 of validation set 0.7649445396465925\n"
     ]
    }
   ],
   "source": [
    "print_score(m)"
   ]
  },
  {
   "cell_type": "markdown",
   "metadata": {},
   "source": [
    "> * **Train**: Modelin eğitildiği yer\n",
    "> * **Validation**: Model seçimi yapılan yer(iterasyon yapılıyor)\n",
    "> * **Test**: Seçilen model gerçek hayatta ne kadar iyi yapacak testi"
   ]
  },
  {
   "cell_type": "markdown",
   "metadata": {},
   "source": [
    "# Plot Prediction"
   ]
  },
  {
   "cell_type": "code",
   "execution_count": 16,
   "metadata": {},
   "outputs": [],
   "source": [
    "import matplotlib.pyplot as plt"
   ]
  },
  {
   "cell_type": "code",
   "execution_count": 17,
   "metadata": {},
   "outputs": [],
   "source": [
    "def get_sample(df, n):\n",
    "    idxs = np.random.permutation(len(df))[:n]\n",
    "    return idxs, df.iloc[idxs].copy()"
   ]
  },
  {
   "cell_type": "code",
   "execution_count": 18,
   "metadata": {},
   "outputs": [],
   "source": [
    "idxs, x_train = get_sample(x_train, 3000)\n",
    "y_train = y_train[idxs]"
   ]
  },
  {
   "cell_type": "markdown",
   "metadata": {},
   "source": [
    "#### Plot"
   ]
  },
  {
   "cell_type": "code",
   "execution_count": 19,
   "metadata": {},
   "outputs": [
    {
     "name": "stdout",
     "output_type": "stream",
     "text": [
      "CPU times: total: 578 ms\n",
      "Wall time: 80.9 ms\n",
      "RMSLE of train set 0.1410574810274869\n",
      "RMSLE of validation set 0.3572096319265884\n",
      "R^2 of train set 0.9580558324075517\n",
      "R^2 of validation set 0.7435150523160486\n"
     ]
    }
   ],
   "source": [
    "m = RandomForestRegressor(n_estimators=10, n_jobs=-1)\n",
    "%time m.fit(x_train, y_train)\n",
    "print_score(m)"
   ]
  },
  {
   "cell_type": "code",
   "execution_count": 20,
   "metadata": {},
   "outputs": [
    {
     "name": "stderr",
     "output_type": "stream",
     "text": [
      "c:\\Users\\pc4\\AppData\\Local\\Programs\\Python\\Python310\\lib\\site-packages\\sklearn\\base.py:443: UserWarning: X has feature names, but DecisionTreeRegressor was fitted without feature names\n",
      "  warnings.warn(\n",
      "c:\\Users\\pc4\\AppData\\Local\\Programs\\Python\\Python310\\lib\\site-packages\\sklearn\\base.py:443: UserWarning: X has feature names, but DecisionTreeRegressor was fitted without feature names\n",
      "  warnings.warn(\n",
      "c:\\Users\\pc4\\AppData\\Local\\Programs\\Python\\Python310\\lib\\site-packages\\sklearn\\base.py:443: UserWarning: X has feature names, but DecisionTreeRegressor was fitted without feature names\n",
      "  warnings.warn(\n",
      "c:\\Users\\pc4\\AppData\\Local\\Programs\\Python\\Python310\\lib\\site-packages\\sklearn\\base.py:443: UserWarning: X has feature names, but DecisionTreeRegressor was fitted without feature names\n",
      "  warnings.warn(\n",
      "c:\\Users\\pc4\\AppData\\Local\\Programs\\Python\\Python310\\lib\\site-packages\\sklearn\\base.py:443: UserWarning: X has feature names, but DecisionTreeRegressor was fitted without feature names\n",
      "  warnings.warn(\n",
      "c:\\Users\\pc4\\AppData\\Local\\Programs\\Python\\Python310\\lib\\site-packages\\sklearn\\base.py:443: UserWarning: X has feature names, but DecisionTreeRegressor was fitted without feature names\n",
      "  warnings.warn(\n",
      "c:\\Users\\pc4\\AppData\\Local\\Programs\\Python\\Python310\\lib\\site-packages\\sklearn\\base.py:443: UserWarning: X has feature names, but DecisionTreeRegressor was fitted without feature names\n",
      "  warnings.warn(\n",
      "c:\\Users\\pc4\\AppData\\Local\\Programs\\Python\\Python310\\lib\\site-packages\\sklearn\\base.py:443: UserWarning: X has feature names, but DecisionTreeRegressor was fitted without feature names\n",
      "  warnings.warn(\n",
      "c:\\Users\\pc4\\AppData\\Local\\Programs\\Python\\Python310\\lib\\site-packages\\sklearn\\base.py:443: UserWarning: X has feature names, but DecisionTreeRegressor was fitted without feature names\n",
      "  warnings.warn(\n",
      "c:\\Users\\pc4\\AppData\\Local\\Programs\\Python\\Python310\\lib\\site-packages\\sklearn\\base.py:443: UserWarning: X has feature names, but DecisionTreeRegressor was fitted without feature names\n",
      "  warnings.warn(\n"
     ]
    },
    {
     "data": {
      "text/plain": [
       "(array([10.55841352, 11.19821472,  9.680344  , 11.53272809, 11.51292546,\n",
       "        11.51292546, 10.34174248, 10.59663473, 11.39639165, 11.11988288]),\n",
       " 10.945020300597344,\n",
       " 11.719939634354555)"
      ]
     },
     "execution_count": 20,
     "metadata": {},
     "output_type": "execute_result"
    }
   ],
   "source": [
    "preds = np.array([t.predict(x_valid) for t in m.estimators_])\n",
    "preds[:,0], np.mean(preds[:,0]), y_valid[0]"
   ]
  },
  {
   "cell_type": "code",
   "execution_count": 21,
   "metadata": {},
   "outputs": [
    {
     "data": {
      "text/plain": [
       "(10, 12000)"
      ]
     },
     "execution_count": 21,
     "metadata": {},
     "output_type": "execute_result"
    }
   ],
   "source": [
    "preds.shape"
   ]
  },
  {
   "cell_type": "code",
   "execution_count": 22,
   "metadata": {},
   "outputs": [
    {
     "data": {
      "text/plain": [
       "array([10.55841352, 11.19821472,  9.680344  , 11.53272809, 11.51292546,\n",
       "       11.51292546, 10.34174248, 10.59663473, 11.39639165, 11.11988288])"
      ]
     },
     "execution_count": 22,
     "metadata": {},
     "output_type": "execute_result"
    }
   ],
   "source": [
    "preds[:,0]"
   ]
  },
  {
   "cell_type": "code",
   "execution_count": 23,
   "metadata": {},
   "outputs": [
    {
     "data": {
      "text/plain": [
       "[<matplotlib.lines.Line2D at 0x1c581c38a30>]"
      ]
     },
     "execution_count": 23,
     "metadata": {},
     "output_type": "execute_result"
    },
    {
     "data": {
      "image/png": "[encoded data removed]",
      "text/plain": [
       "<Figure size 432x288 with 1 Axes>"
      ]
     },
     "metadata": {
      "needs_background": "light"
     },
     "output_type": "display_data"
    }
   ],
   "source": [
    "plt.plot([metrics.r2_score(y_valid, np.mean(preds[:i+1], axis=0)) for i in range(10)])"
   ]
  },
  {
   "cell_type": "code",
   "execution_count": 24,
   "metadata": {},
   "outputs": [
    {
     "name": "stdout",
     "output_type": "stream",
     "text": [
      "RMSLE of train set 0.12419339334422257\n",
      "RMSLE of validation set 0.3410682371790845\n",
      "R^2 of train set 0.9674855569762023\n",
      "R^2 of validation set 0.7661711389970793\n"
     ]
    }
   ],
   "source": [
    "m = RandomForestRegressor(n_estimators=40, n_jobs=-1)\n",
    "m.fit(x_train, y_train)\n",
    "print_score(m)"
   ]
  },
  {
   "cell_type": "code",
   "execution_count": 25,
   "metadata": {},
   "outputs": [
    {
     "name": "stdout",
     "output_type": "stream",
     "text": [
      "RMSLE of train set 0.11797716303209556\n",
      "RMSLE of validation set 0.3378641583896938\n",
      "R^2 of train set 0.970658978537773\n",
      "R^2 of validation set 0.7705437946687159\n"
     ]
    }
   ],
   "source": [
    "m = RandomForestRegressor(n_estimators=60, n_jobs=-1)\n",
    "m.fit(x_train, y_train)\n",
    "print_score(m)"
   ]
  },
  {
   "cell_type": "code",
   "execution_count": 26,
   "metadata": {},
   "outputs": [
    {
     "name": "stdout",
     "output_type": "stream",
     "text": [
      "RMSLE of train set 0.11593619441903018\n",
      "RMSLE of validation set 0.3305617502186051\n",
      "R^2 of train set 0.971665378659119\n",
      "R^2 of validation set 0.7803552841034609\n"
     ]
    }
   ],
   "source": [
    "m = RandomForestRegressor(n_estimators=100, n_jobs=-1)\n",
    "m.fit(x_train, y_train)\n",
    "print_score(m)"
   ]
  }
 ],
 "metadata": {
  "kernelspec": {
   "display_name": "Python 3.10.5 64-bit",
   "language": "python",
   "name": "python3"
  },
  "language_info": {
   "codemirror_mode": {
    "name": "ipython",
    "version": 3
   },
   "file_extension": ".py",
   "mimetype": "text/x-python",
   "name": "python",
   "nbconvert_exporter": "python",
   "pygments_lexer": "ipython3",
   "version": "3.10.5"
  },
  "orig_nbformat": 4,
  "vscode": {
   "interpreter": {
    "hash": "f6d93cea15aa25cd6154ad73ef5572c382c028374c9d3d90f02e468d8b485a80"
   }
  }
 },
 "nbformat": 4,
 "nbformat_minor": 2
}
