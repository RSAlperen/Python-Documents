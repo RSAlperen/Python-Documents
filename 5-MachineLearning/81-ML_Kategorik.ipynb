{
 "cells": [
  {
   "cell_type": "markdown",
   "metadata": {},
   "source": [
    "##### Creation Date:\n",
    "##### January 13 2022\n",
    "##### Created By Alperen KOLAMUC"
   ]
  },
  {
   "cell_type": "markdown",
   "metadata": {},
   "source": [
    "| String Etiketler |\n",
    "|------------------|\n",
    "| Kraliçe          |\n",
    "| Kral             |\n",
    "| Prenses          |\n",
    "| Prens            |\n",
    "| Köylü Kız        |\n",
    "| Köylü Çocuk      |\n",
    "\n",
    "* Bu Etiketlerin hepsi `String` bilgisayar bunları nasıl görecek? Çünkü bilgisayar sadece sayılarla işlem yapıyordu. Oysaki `\"Kraliçe\"` = 0x4B 0x72 0x61 0x6C 0x69 0xE7 0x65 ASCII kodlarından oluşuyor. O zaman ben `String` ifadelerime unique sayılar verip onlarla ifade edebilirim.\n",
    "\n",
    "E.g:\n",
    "\n",
    "| String Etiketler |   |\n",
    "|:----------------:|:-:|\n",
    "|      Kraliçe     | 6 |\n",
    "|       Kral       | 3 |\n",
    "|      Prenses     | 5 |\n",
    "|       Prens      | 2 |\n",
    "|     Köylü Kız    | 4 |\n",
    "|    Köylü Çocuk   | 1 |"
   ]
  },
  {
   "cell_type": "markdown",
   "metadata": {},
   "source": [
    "* Evet buraya kadar `String` etiketleri bilgisayara tanıtmayı başardık fakat burada şöyle bir sıkıntı ortaya çıkıyor. `\"BENZERLİK\"`. Köylü Çocuk = 1, Prens = 2. Değerleri bir birine yakın bu ikisi benzer midir? Tabiki değildir. O zaman `Label Encoding` yaparken sayıları kafamıza göre girmememiz lazım.\n",
    "\n",
    "| String Etiketler |   |\n",
    "|:----------------:|:-:|\n",
    "|      Kraliçe     | 2 |\n",
    "|       Kral       | 1 |\n",
    "|      Prenses     | 4 |\n",
    "|       Prens      | 3 |\n",
    "|     Köylü Kız    | 6 |\n",
    "|    Köylü Çocuk   | 5 |\n",
    "\n",
    "* Şimdi tablo daha anlamlı hale geldi.\n",
    "* Peki tabloyu yukarıda `Soyluluk` kavramına göre düzenledik. Peki ben aynı zamanda `Cinsiyet`'e göre de numaralandırmak istesem nasıl olacaktı? O zaman `Cinsiyet` ve `Soyluluk` durumlarına göre numaralandıracağız.\n",
    "\n",
    "| Code | **Cinsiyet** | **Soyluluk** |\n",
    "|------|--------------|--------------|\n",
    "|   0  | Erkek        | Soysuz       |\n",
    "|   1  | Kadın        | Soylu        |\n",
    "|   2  |              | Çok Soylu    |\n",
    "\n",
    "* Bu yeni bilgilere göre tablomuz artık;\n",
    "\n",
    "| String Etiketler | (Cinsiyet,Soy)|\n",
    "|:----------------:|:-----:|\n",
    "|      Kraliçe     | (1,2) |\n",
    "|       Kral       | (0,2) |\n",
    "|      Prenses     | (1,1) |\n",
    "|       Prens      | (0,1) |\n",
    "|     Köylü Kız    | (1,0) |\n",
    "|    Köylü Çocuk   | (0,0) |\n"
   ]
  },
  {
   "cell_type": "markdown",
   "metadata": {},
   "source": [
    "![title](vectorel1.png)"
   ]
  },
  {
   "cell_type": "markdown",
   "metadata": {},
   "source": []
  }
 ],
 "metadata": {
  "interpreter": {
   "hash": "b89b5cfaba6639976dc87ff2fec6d58faec662063367e2c229c520fe71072417"
  },
  "kernelspec": {
   "display_name": "Python 3.10.1 64-bit",
   "language": "python",
   "name": "python3"
  },
  "language_info": {
   "codemirror_mode": {
    "name": "ipython",
    "version": 3
   },
   "file_extension": ".py",
   "mimetype": "text/x-python",
   "name": "python",
   "nbconvert_exporter": "python",
   "pygments_lexer": "ipython3",
   "version": "3.10.1"
  },
  "orig_nbformat": 4
 },
 "nbformat": 4,
 "nbformat_minor": 2
}
